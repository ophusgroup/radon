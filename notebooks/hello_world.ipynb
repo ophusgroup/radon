{
 "cells": [
  {
   "cell_type": "code",
   "execution_count": 1,
   "id": "df3d6e33",
   "metadata": {},
   "outputs": [
    {
     "name": "stdout",
     "output_type": "stream",
     "text": [
      "CUDA backend loaded successfully.\n",
      "RaysCfg loaded successfully.\n",
      "Available GPUs: 4\n",
      "Using GPU ID 2 : NVIDIA L40S\n"
     ]
    }
   ],
   "source": [
    "%load_ext autoreload\n",
    "%autoreload 2\n",
    "\n",
    "import radon\n",
    "import torch\n",
    "\n",
    "_avail_gpus = torch.cuda.device_count()\n",
    "GPU_ID = 2  # Default GPU ID\n",
    "if _avail_gpus == 0:\n",
    "    print(\"No GPUs available -- will need one for cuda\")\n",
    "    device = \"cpu\"\n",
    "else:\n",
    "    print(f\"Available GPUs: {_avail_gpus}\")\n",
    "    print(f\"Using GPU ID {GPU_ID} : {torch.cuda.get_device_name(GPU_ID)}\")\n",
    "    torch.cuda.set_device(GPU_ID)\n",
    "    device = f\"cuda:{GPU_ID}\""
   ]
  },
  {
   "cell_type": "code",
   "execution_count": 2,
   "id": "e402edd7",
   "metadata": {},
   "outputs": [
    {
     "name": "stdout",
     "output_type": "stream",
     "text": [
      "Result: Hello from CUDA thread 0: 0.48 + 0.36 = 0.83\n",
      "Hello from CUDA thread 1: 0.78 + 0.24 = 1.02\n",
      "Hello from CUDA thread 2: 0.94 + 0.09 = 1.02\n",
      "tensor([0.8344, 1.0192, 1.0228], device='cuda:2')\n"
     ]
    }
   ],
   "source": [
    "a = torch.rand(3, device=GPU_ID)\n",
    "b = torch.rand(3, device=GPU_ID)\n",
    "c = torch.zeros_like(a, device=GPU_ID)\n",
    "radon.add_arrays(a, b, c)\n",
    "print(\"Result:\", c)"
   ]
  },
  {
   "cell_type": "code",
   "execution_count": 3,
   "id": "f0cdbe47",
   "metadata": {},
   "outputs": [
    {
     "name": "stdout",
     "output_type": "stream",
     "text": [
      "Radon object created: <radon.radon.Radon object at 0x753661c93980>\n",
      "Radon version: 0.1.0\n",
      "Radon working successfully on device\n",
      "RaysCfg object: <radon.cuda._cuda_add.RaysCfg object at 0x753815b892b0>\n",
      "TextureCache object: <radon.cuda._cuda_add.TextureCache object at 0x753661cf3830>\n"
     ]
    }
   ],
   "source": [
    "r = radon.Radon(1,[0,10,20,30])\n",
    "print(\"Radon object created:\", r)\n",
    "print(\"Radon version:\", r.version)\n",
    "print(\"Radon working successfully on device\")\n",
    "print(\"RaysCfg object:\", r.rays_cfg)\n",
    "print(\"TextureCache object:\", r.tex_cache)"
   ]
  },
  {
   "cell_type": "code",
   "execution_count": null,
   "id": "7631de47",
   "metadata": {},
   "outputs": [],
   "source": []
  }
 ],
 "metadata": {
  "kernelspec": {
   "display_name": "radon",
   "language": "python",
   "name": "python3"
  },
  "language_info": {
   "codemirror_mode": {
    "name": "ipython",
    "version": 3
   },
   "file_extension": ".py",
   "mimetype": "text/x-python",
   "name": "python",
   "nbconvert_exporter": "python",
   "pygments_lexer": "ipython3",
   "version": "3.12.3"
  }
 },
 "nbformat": 4,
 "nbformat_minor": 5
}
