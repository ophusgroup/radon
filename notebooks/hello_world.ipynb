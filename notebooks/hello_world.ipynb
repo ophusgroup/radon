{
 "cells": [
  {
   "cell_type": "code",
   "execution_count": 1,
   "id": "df3d6e33",
   "metadata": {},
   "outputs": [
    {
     "name": "stdout",
     "output_type": "stream",
     "text": [
      "CUDA backend loaded successfully.\n",
      "Available GPUs: 4\n",
      "Using GPU ID 2 : NVIDIA L40S\n"
     ]
    }
   ],
   "source": [
    "%load_ext autoreload\n",
    "%autoreload 2\n",
    "\n",
    "import radon\n",
    "import torch\n",
    "\n",
    "_avail_gpus = torch.cuda.device_count()\n",
    "GPU_ID = 2  # Default GPU ID\n",
    "if _avail_gpus == 0:\n",
    "    print(\"No GPUs available -- will need one for cuda\")\n",
    "    device = \"cpu\"\n",
    "else:\n",
    "    print(f\"Available GPUs: {_avail_gpus}\")\n",
    "    print(f\"Using GPU ID {GPU_ID} : {torch.cuda.get_device_name(GPU_ID)}\")\n",
    "    torch.cuda.set_device(GPU_ID)\n",
    "    device = f\"cuda:{GPU_ID}\""
   ]
  },
  {
   "cell_type": "code",
   "execution_count": 2,
   "id": "e402edd7",
   "metadata": {},
   "outputs": [
    {
     "name": "stdout",
     "output_type": "stream",
     "text": [
      "Result:Hello from CUDA thread 0: 0.70 + 0.64 = 1.35\n",
      "Hello from CUDA thread 1: 0.73 + 0.65 = 1.37\n",
      "Hello from CUDA thread 2: 0.84 + 0.90 = 1.74\n",
      " tensor([1.3464, 1.3749, 1.7367], device='cuda:2')\n"
     ]
    }
   ],
   "source": [
    "a = torch.rand(3, device=GPU_ID)\n",
    "b = torch.rand(3, device=GPU_ID)\n",
    "c = torch.zeros_like(a, device=GPU_ID)\n",
    "radon.add_arrays(a, b, c)\n",
    "print(\"Result:\", c)"
   ]
  },
  {
   "cell_type": "code",
   "execution_count": 3,
   "id": "f0cdbe47",
   "metadata": {},
   "outputs": [
    {
     "name": "stdout",
     "output_type": "stream",
     "text": [
      "Radon object created: <radon.radon.Radon object at 0x73f9b5d687a0>\n",
      "Radon version: 0.1.0\n",
      "Radon working successfully on device\n"
     ]
    }
   ],
   "source": [
    "r = radon.Radon()\n",
    "print(\"Radon object created:\", r)\n",
    "print(\"Radon version:\", r.version)\n",
    "print(\"Radon working successfully on device\")"
   ]
  }
 ],
 "metadata": {
  "kernelspec": {
   "display_name": "radon",
   "language": "python",
   "name": "python3"
  },
  "language_info": {
   "codemirror_mode": {
    "name": "ipython",
    "version": 3
   },
   "file_extension": ".py",
   "mimetype": "text/x-python",
   "name": "python",
   "nbconvert_exporter": "python",
   "pygments_lexer": "ipython3",
   "version": "3.12.3"
  }
 },
 "nbformat": 4,
 "nbformat_minor": 5
}
