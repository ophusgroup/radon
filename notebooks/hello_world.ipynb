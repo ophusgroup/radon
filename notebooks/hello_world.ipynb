{
 "cells": [
  {
   "cell_type": "code",
   "execution_count": 5,
   "id": "df3d6e33",
   "metadata": {},
   "outputs": [
    {
     "name": "stdout",
     "output_type": "stream",
     "text": [
      "The autoreload extension is already loaded. To reload it, use:\n",
      "  %reload_ext autoreload\n",
      "Available GPUs: 4\n",
      "Using GPU ID 2 : NVIDIA L40S\n"
     ]
    }
   ],
   "source": [
    "%load_ext autoreload\n",
    "%autoreload 2\n",
    "\n",
    "import radon\n",
    "import torch\n",
    "\n",
    "_avail_gpus = torch.cuda.device_count()\n",
    "GPU_ID = 2\n",
    "if _avail_gpus == 0:\n",
    "    print(\"No GPUs available -- will need one for cuda\")\n",
    "    device = \"cpu\"\n",
    "else:\n",
    "    print(f\"Available GPUs: {_avail_gpus}\")\n",
    "    print(f\"Using GPU ID {GPU_ID} : {torch.cuda.get_device_name(GPU_ID)}\")\n",
    "    torch.cuda.set_device(GPU_ID)\n",
    "    device = f\"cuda:{GPU_ID}\""
   ]
  },
  {
   "cell_type": "code",
   "execution_count": null,
   "id": "e402edd7",
   "metadata": {},
   "outputs": [
    {
     "name": "stdout",
     "output_type": "stream",
     "text": [
      "Result:Hello from CUDA thread 0: 1.00 + 4.00 = 5.00\n",
      "Hello from CUDA thread 1: 2.00 + 5.00 = 7.00\n",
      "Hello from CUDA thread 2: 3.00 + 6.00 = 9.00\n",
      " tensor([5., 7., 9.], device='cuda:1')\n"
     ]
    }
   ],
   "source": [
    "a = torch.tensor([1.0, 2.0, 3.0], device=GPU_ID)\n",
    "b = torch.tensor([4.0, 5.0, 6.0], device=GPU_ID)\n",
    "c = torch.tensor([0.0, 0.0, 0.0], device=GPU_ID)\n",
    "radon.add_arrays(a, b, c)\n",
    "print(\"Result:\", c)"
   ]
  },
  {
   "cell_type": "code",
   "execution_count": null,
   "id": "a454181f",
   "metadata": {},
   "outputs": [],
   "source": []
  }
 ],
 "metadata": {
  "kernelspec": {
   "display_name": ".venv",
   "language": "python",
   "name": "python3"
  },
  "language_info": {
   "codemirror_mode": {
    "name": "ipython",
    "version": 3
   },
   "file_extension": ".py",
   "mimetype": "text/x-python",
   "name": "python",
   "nbconvert_exporter": "python",
   "pygments_lexer": "ipython3",
   "version": "3.13.3"
  }
 },
 "nbformat": 4,
 "nbformat_minor": 5
}
