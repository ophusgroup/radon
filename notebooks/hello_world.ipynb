{
 "cells": [
  {
   "cell_type": "code",
   "execution_count": 4,
   "id": "df3d6e33",
   "metadata": {},
   "outputs": [
    {
     "name": "stdout",
     "output_type": "stream",
     "text": [
      "The autoreload extension is already loaded. To reload it, use:\n",
      "  %reload_ext autoreload\n",
      "Available GPUs: 4\n",
      "Using GPU ID 2 : NVIDIA L40S\n"
     ]
    }
   ],
   "source": [
    "%load_ext autoreload\n",
    "%autoreload 2\n",
    "\n",
    "import radon\n",
    "import torch\n",
    "\n",
    "_avail_gpus = torch.cuda.device_count()\n",
    "GPU_ID = 2  # Default GPU ID\n",
    "if _avail_gpus == 0:\n",
    "    print(\"No GPUs available -- will need one for cuda\")\n",
    "    device = \"cpu\"\n",
    "else:\n",
    "    print(f\"Available GPUs: {_avail_gpus}\")\n",
    "    print(f\"Using GPU ID {GPU_ID} : {torch.cuda.get_device_name(GPU_ID)}\")\n",
    "    torch.cuda.set_device(GPU_ID)\n",
    "    device = f\"cuda:{GPU_ID}\""
   ]
  },
  {
   "cell_type": "code",
   "execution_count": 5,
   "id": "e402edd7",
   "metadata": {},
   "outputs": [
    {
     "name": "stdout",
     "output_type": "stream",
     "text": [
      "Result: Hello from CUDA thread 0: 0.38 + 0.43 = 0.81\n",
      "Hello from CUDA thread 1: 0.32 + 0.67 = 1.00\n",
      "Hello from CUDA thread 2: 0.94 + 0.68 = 1.62\n",
      "tensor([0.8126, 0.9976, 1.6229], device='cuda:2')\n"
     ]
    }
   ],
   "source": [
    "a = torch.rand(3, device=GPU_ID)\n",
    "b = torch.rand(3, device=GPU_ID)\n",
    "c = torch.zeros_like(a, device=GPU_ID)\n",
    "radon.add_arrays(a, b, c)\n",
    "print(\"Result:\", c)"
   ]
  },
  {
   "cell_type": "code",
   "execution_count": 6,
   "id": "f0cdbe47",
   "metadata": {},
   "outputs": [
    {
     "name": "stdout",
     "output_type": "stream",
     "text": [
      "Radon object created: <radon.radon.Radon object at 0x7a58e9a58200>\n",
      "Radon version: 0.1.0\n",
      "Radon working successfully on device\n"
     ]
    }
   ],
   "source": [
    "r = radon.Radon()\n",
    "print(\"Radon object created:\", r)\n",
    "print(\"Radon version:\", r.version)\n",
    "print(\"Radon working successfully on device\")"
   ]
  }
 ],
 "metadata": {
  "kernelspec": {
   "display_name": "radon",
   "language": "python",
   "name": "python3"
  },
  "language_info": {
   "codemirror_mode": {
    "name": "ipython",
    "version": 3
   },
   "file_extension": ".py",
   "mimetype": "text/x-python",
   "name": "python",
   "nbconvert_exporter": "python",
   "pygments_lexer": "ipython3",
   "version": "3.12.3"
  }
 },
 "nbformat": 4,
 "nbformat_minor": 5
}
